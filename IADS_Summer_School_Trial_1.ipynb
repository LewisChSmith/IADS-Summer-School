{
  "nbformat": 4,
  "nbformat_minor": 0,
  "metadata": {
    "colab": {
      "name": "IADS_Summer_School_Trial_1.ipynb",
      "provenance": [],
      "collapsed_sections": [],
      "authorship_tag": "ABX9TyNLvxgwCYuc42iFYgOpbebI",
      "include_colab_link": true
    },
    "kernelspec": {
      "name": "python3",
      "display_name": "Python 3"
    },
    "language_info": {
      "name": "python"
    }
  },
  "cells": [
    {
      "cell_type": "markdown",
      "metadata": {
        "id": "view-in-github",
        "colab_type": "text"
      },
      "source": [
        "<a href=\"https://colab.research.google.com/github/LewisChSmith/IADS-Summer-School-Mk-1/blob/main/IADS_Summer_School_Trial_1.ipynb\" target=\"_parent\"><img src=\"https://colab.research.google.com/assets/colab-badge.svg\" alt=\"Open In Colab\"/></a>"
      ]
    },
    {
      "cell_type": "code",
      "metadata": {
        "id": "ZU5zWix2d9I7",
        "colab": {
          "base_uri": "https://localhost:8080/"
        },
        "outputId": "3e443dd2-4a35-4de2-c847-ddfa17915c03"
      },
      "source": [
        "#test comment\n",
        "print('Welcome to IADS Summer School')  "
      ],
      "execution_count": 1,
      "outputs": [
        {
          "output_type": "stream",
          "text": [
            "Welcome to IADS Summer School\n"
          ],
          "name": "stdout"
        }
      ]
    },
    {
      "cell_type": "markdown",
      "metadata": {
        "id": "XXD056e4APRL"
      },
      "source": [
        "#Summer School\n",
        "##subheading\n",
        "###chickens\n",
        "This is markdown text "
      ]
    },
    {
      "cell_type": "code",
      "metadata": {
        "id": "jmGWfvnEBd0H"
      },
      "source": [
        ""
      ],
      "execution_count": null,
      "outputs": []
    }
  ]
}