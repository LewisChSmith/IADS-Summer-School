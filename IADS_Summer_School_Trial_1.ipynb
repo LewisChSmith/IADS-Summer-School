{
  "nbformat": 4,
  "nbformat_minor": 0,
  "metadata": {
    "colab": {
      "name": "IADS_Summer_School_Trial_1.ipynb",
      "provenance": [],
      "collapsed_sections": [],
      "authorship_tag": "ABX9TyPq3/DahQByCHKdJJNnbmQf",
      "include_colab_link": true
    },
    "kernelspec": {
      "name": "python3",
      "display_name": "Python 3"
    },
    "language_info": {
      "name": "python"
    }
  },
  "cells": [
    {
      "cell_type": "markdown",
      "metadata": {
        "id": "view-in-github",
        "colab_type": "text"
      },
      "source": [
        "<a href=\"https://colab.research.google.com/github/LewisChSmith/IADS-Summer-School-Mk-1/blob/main/IADS_Summer_School_Trial_1.ipynb\" target=\"_parent\"><img src=\"https://colab.research.google.com/assets/colab-badge.svg\" alt=\"Open In Colab\"/></a>"
      ]
    },
    {
      "cell_type": "code",
      "metadata": {
        "id": "ZU5zWix2d9I7"
      },
      "source": [
        "for i in range(0,100):\n",
        "  print('Welcome to IADS Summer School')"
      ],
      "execution_count": null,
      "outputs": []
    },
    {
      "cell_type": "code",
      "metadata": {
        "colab": {
          "base_uri": "https://localhost:8080/"
        },
        "id": "GvXM6OI7H_p7",
        "outputId": "3306092f-95a7-444e-eef5-70808906385a"
      },
      "source": [
        "x = 10\n",
        "y = 20\n",
        "if x>y:\n",
        "  print('X is greater than Y')\n",
        "else:\n",
        "  print('Y is greater than X mark 2')"
      ],
      "execution_count": 6,
      "outputs": [
        {
          "output_type": "stream",
          "text": [
            "Y is greater than X mark 2\n"
          ],
          "name": "stdout"
        }
      ]
    },
    {
      "cell_type": "markdown",
      "metadata": {
        "id": "XXD056e4APRL"
      },
      "source": [
        "#Summer School\n",
        "##subheading\n",
        "###chickens\n",
        "This is markdown text \n",
        "\n",
        "$3x^2 + 2x =10$"
      ]
    },
    {
      "cell_type": "code",
      "metadata": {
        "id": "jmGWfvnEBd0H"
      },
      "source": [
        ""
      ],
      "execution_count": null,
      "outputs": []
    }
  ]
}