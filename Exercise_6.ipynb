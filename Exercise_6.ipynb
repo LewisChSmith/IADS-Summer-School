{
  "nbformat": 4,
  "nbformat_minor": 0,
  "metadata": {
    "kernelspec": {
      "display_name": "Python 3",
      "language": "python",
      "name": "python3"
    },
    "language_info": {
      "codemirror_mode": {
        "name": "ipython",
        "version": 3
      },
      "file_extension": ".py",
      "mimetype": "text/x-python",
      "name": "python",
      "nbconvert_exporter": "python",
      "pygments_lexer": "ipython3",
      "version": "3.6.5"
    },
    "colab": {
      "name": "Exercise_6.ipynb",
      "provenance": [],
      "include_colab_link": true
    }
  },
  "cells": [
    {
      "cell_type": "markdown",
      "metadata": {
        "id": "view-in-github",
        "colab_type": "text"
      },
      "source": [
        "<a href=\"https://colab.research.google.com/github/LewisChSmith/IADS-Summer-School/blob/26%2F07-Python/Exercise_6.ipynb\" target=\"_parent\"><img src=\"https://colab.research.google.com/assets/colab-badge.svg\" alt=\"Open In Colab\"/></a>"
      ]
    },
    {
      "cell_type": "code",
      "metadata": {
        "id": "h29GwWOAHtbO"
      },
      "source": [
        "import csv"
      ],
      "execution_count": 1,
      "outputs": []
    },
    {
      "cell_type": "code",
      "metadata": {
        "id": "dYOaq8yJHtbO",
        "outputId": "6c6b25ee-9425-4304-b572-66c8b566ea24",
        "colab": {
          "base_uri": "https://localhost:8080/",
          "height": 333
        }
      },
      "source": [
        "with open('avocado.csv') as csvfile:\n",
        "        readCSV = csv.DictReader(csvfile, delimiter=',')\n",
        "        avocadosales = []\n",
        "        #for col in readCSV:\n",
        "            #print(col['Date'],col['AveragePrice'], col['Total Volume'], col['Total Bags'],col['Small Bags'],col['Large Bags'],col['XLarge Bags'], col['year'],col['region'] )\n",
        "\n",
        "        class Avocado:\n",
        "          def __init__(self,Date,AveragePrice,TotalVolume,TotalBags,SmallBags,LargeBags,XLargeBags,Year,Region):\n",
        "            self.Date = Date\n",
        "            self.AveragePrice = AveragePrice\n",
        "            self.TotalVolume = TotalVolume\n",
        "            self.TotalBags = TotalBags\n",
        "            self.SmallBags = SmallBags\n",
        "            self.LargeBags = LargeBags\n",
        "            self.XLargeBags = XLargeBags\n",
        "            self.Year = Year\n",
        "            self.Region = Region\n",
        "          def Printer(self,):\n",
        "            print(\"\\nDate \", self.Date)\n",
        "\n",
        "        for row in readCSV:\n",
        "          sale1 = Avocado()\n"
      ],
      "execution_count": 16,
      "outputs": [
        {
          "output_type": "error",
          "ename": "TypeError",
          "evalue": "ignored",
          "traceback": [
            "\u001b[0;31m---------------------------------------------------------------------------\u001b[0m",
            "\u001b[0;31mTypeError\u001b[0m                                 Traceback (most recent call last)",
            "\u001b[0;32m<ipython-input-16-d853af94955e>\u001b[0m in \u001b[0;36m<module>\u001b[0;34m()\u001b[0m\n\u001b[1;32m      5\u001b[0m             \u001b[0;31m#print(col['Date'],col['AveragePrice'], col['Total Volume'], col['Total Bags'],col['Small Bags'],col['Large Bags'],col['XLarge Bags'], col['year'],col['region'] )\u001b[0m\u001b[0;34m\u001b[0m\u001b[0;34m\u001b[0m\u001b[0;34m\u001b[0m\u001b[0m\n\u001b[1;32m      6\u001b[0m \u001b[0;34m\u001b[0m\u001b[0m\n\u001b[0;32m----> 7\u001b[0;31m         \u001b[0;32mclass\u001b[0m \u001b[0mAvocado\u001b[0m\u001b[0;34m:\u001b[0m\u001b[0;34m\u001b[0m\u001b[0;34m\u001b[0m\u001b[0m\n\u001b[0m\u001b[1;32m      8\u001b[0m           \u001b[0;32mdef\u001b[0m \u001b[0m__init__\u001b[0m\u001b[0;34m(\u001b[0m\u001b[0mself\u001b[0m\u001b[0;34m,\u001b[0m\u001b[0mDate\u001b[0m\u001b[0;34m,\u001b[0m\u001b[0mAveragePrice\u001b[0m\u001b[0;34m,\u001b[0m\u001b[0mTotalVolume\u001b[0m\u001b[0;34m,\u001b[0m\u001b[0mTotalBags\u001b[0m\u001b[0;34m,\u001b[0m\u001b[0mSmallBags\u001b[0m\u001b[0;34m,\u001b[0m\u001b[0mLargeBags\u001b[0m\u001b[0;34m,\u001b[0m\u001b[0mXLargeBags\u001b[0m\u001b[0;34m,\u001b[0m\u001b[0mYear\u001b[0m\u001b[0;34m,\u001b[0m\u001b[0mRegion\u001b[0m\u001b[0;34m)\u001b[0m\u001b[0;34m:\u001b[0m\u001b[0;34m\u001b[0m\u001b[0;34m\u001b[0m\u001b[0m\n\u001b[1;32m      9\u001b[0m             \u001b[0mself\u001b[0m\u001b[0;34m.\u001b[0m\u001b[0mDate\u001b[0m \u001b[0;34m=\u001b[0m \u001b[0mDate\u001b[0m\u001b[0;34m\u001b[0m\u001b[0;34m\u001b[0m\u001b[0m\n",
            "\u001b[0;32m<ipython-input-16-d853af94955e>\u001b[0m in \u001b[0;36mAvocado\u001b[0;34m()\u001b[0m\n\u001b[1;32m     19\u001b[0m             \u001b[0mprint\u001b[0m\u001b[0;34m(\u001b[0m\u001b[0;34m\"\\nDate \"\u001b[0m\u001b[0;34m,\u001b[0m \u001b[0mself\u001b[0m\u001b[0;34m.\u001b[0m\u001b[0mDate\u001b[0m\u001b[0;34m)\u001b[0m\u001b[0;34m\u001b[0m\u001b[0;34m\u001b[0m\u001b[0m\n\u001b[1;32m     20\u001b[0m \u001b[0;34m\u001b[0m\u001b[0m\n\u001b[0;32m---> 21\u001b[0;31m           \u001b[0;32mfor\u001b[0m \u001b[0mi\u001b[0m \u001b[0;32min\u001b[0m \u001b[0mAvocado\u001b[0m\u001b[0;34m:\u001b[0m\u001b[0;34m\u001b[0m\u001b[0;34m\u001b[0m\u001b[0m\n\u001b[0m\u001b[1;32m     22\u001b[0m             \u001b[0mprint\u001b[0m\u001b[0;34m(\u001b[0m\u001b[0mi\u001b[0m\u001b[0;34m)\u001b[0m\u001b[0;34m\u001b[0m\u001b[0;34m\u001b[0m\u001b[0m\n",
            "\u001b[0;31mTypeError\u001b[0m: 'type' object is not iterable"
          ]
        }
      ]
    },
    {
      "cell_type": "code",
      "metadata": {
        "id": "P5P64A8_HtbT"
      },
      "source": [
        ""
      ],
      "execution_count": null,
      "outputs": []
    }
  ]
}